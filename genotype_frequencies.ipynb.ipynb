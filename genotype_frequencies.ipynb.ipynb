{
 "metadata": {
  "name": ""
 },
 "nbformat": 3,
 "nbformat_minor": 0,
 "worksheets": [
  {
   "cells": [
    {
     "cell_type": "markdown",
     "metadata": {},
     "source": [
      "Genotypes and phenotypes\n",
      "========================\n",
      "\n",
      "Genotypes are biallelic in the form of (0, 1) where 0 is a recessive allele and 1 is a dominant allele. Each genotype is associated with a character of the organism (e.g., seed color) and recessive and dominant phenotypes (e.g., \"green\" and \"yellow\")."
     ]
    },
    {
     "cell_type": "code",
     "collapsed": false,
     "input": [
      "import numpy as np\n",
      "import pandas as pd\n",
      "from pandas import DataFrame, Series\n",
      "import random"
     ],
     "language": "python",
     "metadata": {},
     "outputs": [],
     "prompt_number": 3
    },
    {
     "cell_type": "code",
     "collapsed": false,
     "input": [
      "def create_parental_population(n, allele):\n",
      "    return np.array([allele] * 2*n).reshape(n, 2)"
     ],
     "language": "python",
     "metadata": {},
     "outputs": [],
     "prompt_number": 4
    },
    {
     "cell_type": "code",
     "collapsed": false,
     "input": [
      "create_parental_population(10, 0)"
     ],
     "language": "python",
     "metadata": {},
     "outputs": [
      {
       "metadata": {},
       "output_type": "pyout",
       "prompt_number": 5,
       "text": [
        "array([[0, 0],\n",
        "       [0, 0],\n",
        "       [0, 0],\n",
        "       [0, 0],\n",
        "       [0, 0],\n",
        "       [0, 0],\n",
        "       [0, 0],\n",
        "       [0, 0],\n",
        "       [0, 0],\n",
        "       [0, 0]])"
       ]
      }
     ],
     "prompt_number": 5
    },
    {
     "cell_type": "code",
     "collapsed": false,
     "input": [
      "n = 1000"
     ],
     "language": "python",
     "metadata": {},
     "outputs": [],
     "prompt_number": 30
    },
    {
     "cell_type": "code",
     "collapsed": false,
     "input": [
      "p1_dominant = create_parental_population(n, 1)"
     ],
     "language": "python",
     "metadata": {},
     "outputs": [],
     "prompt_number": 31
    },
    {
     "cell_type": "code",
     "collapsed": false,
     "input": [
      "p1_recessive = create_parental_population(n, 0)"
     ],
     "language": "python",
     "metadata": {},
     "outputs": [],
     "prompt_number": 32
    },
    {
     "cell_type": "code",
     "collapsed": false,
     "input": [
      "def get_alleles(population):\n",
      "    return np.apply_along_axis(np.random.choice, 1, population)\n",
      "\n",
      "def cross_populations(population1, population2):\n",
      "    return np.array([get_alleles(population1), get_alleles(population2)]).T"
     ],
     "language": "python",
     "metadata": {},
     "outputs": [],
     "prompt_number": 13
    },
    {
     "cell_type": "code",
     "collapsed": false,
     "input": [
      "f1 = cross_populations(p1_dominant, p1_recessive)"
     ],
     "language": "python",
     "metadata": {},
     "outputs": [],
     "prompt_number": 33
    },
    {
     "cell_type": "code",
     "collapsed": false,
     "input": [
      "f2 = cross_populations(f1, f1)"
     ],
     "language": "python",
     "metadata": {},
     "outputs": [],
     "prompt_number": 34
    },
    {
     "cell_type": "code",
     "collapsed": false,
     "input": [
      "f2[:10]"
     ],
     "language": "python",
     "metadata": {},
     "outputs": [
      {
       "metadata": {},
       "output_type": "pyout",
       "prompt_number": 35,
       "text": [
        "array([[1, 0],\n",
        "       [0, 0],\n",
        "       [1, 0],\n",
        "       [1, 0],\n",
        "       [0, 1],\n",
        "       [1, 1],\n",
        "       [0, 1],\n",
        "       [1, 0],\n",
        "       [0, 1],\n",
        "       [0, 1]])"
       ]
      }
     ],
     "prompt_number": 35
    },
    {
     "cell_type": "code",
     "collapsed": false,
     "input": [
      "def get_allele_frequencies(population):\n",
      "    \"\"\"\n",
      "    Return the frequency of each allele in the given population.\n",
      "    \"\"\"\n",
      "    unique, inverse = np.unique(population, return_inverse=True)\n",
      "    count = np.zeros(len(unique), np.int)\n",
      "    np.add.at(count, inverse, 1)\n",
      "    return count / np.float(count.sum())\n",
      "\n",
      "def get_expected_genotype_frequencies(population):\n",
      "    \"\"\"\n",
      "    Return an array of genotype frequencies expected for the given population based on Hardy-Weinberg equilibrium.\n",
      "    \"\"\"\n",
      "    allele_frequencies = get_allele_frequencies(population)\n",
      "    return np.array([\n",
      "        allele_frequencies[0] ** 2,\n",
      "        2 * np.product(allele_frequencies),\n",
      "        allele_frequencies[1] ** 2\n",
      "    ])\n",
      "\n",
      "def get_observed_genotype_frequencies(population):\n",
      "    \"\"\"\n",
      "    Return the observed genotype frequencies of the given population.\n",
      "    \"\"\"\n",
      "    genotypes = np.apply_along_axis(sum, 1, population)\n",
      "    return np.bincount(genotypes) / np.sum(genotypes, dtype=np.float64)"
     ],
     "language": "python",
     "metadata": {},
     "outputs": [],
     "prompt_number": 38
    },
    {
     "cell_type": "code",
     "collapsed": false,
     "input": [
      "f2_allele_frequencies = get_allele_frequencies(f2)"
     ],
     "language": "python",
     "metadata": {},
     "outputs": [],
     "prompt_number": 22
    },
    {
     "cell_type": "code",
     "collapsed": false,
     "input": [
      "np.sum(get_expected_genotype_frequencies(f2))"
     ],
     "language": "python",
     "metadata": {},
     "outputs": [
      {
       "metadata": {},
       "output_type": "pyout",
       "prompt_number": 36,
       "text": [
        "0.99999999999999978"
       ]
      }
     ],
     "prompt_number": 36
    },
    {
     "cell_type": "code",
     "collapsed": false,
     "input": [
      "np.sum(get_observed_genotype_frequencies(f2))"
     ],
     "language": "python",
     "metadata": {},
     "outputs": [
      {
       "metadata": {},
       "output_type": "pyout",
       "prompt_number": 39,
       "text": [
        "1.0172939979654121"
       ]
      }
     ],
     "prompt_number": 39
    },
    {
     "cell_type": "code",
     "collapsed": false,
     "input": [
      "f3 = cross_populations(f2, f2)"
     ],
     "language": "python",
     "metadata": {},
     "outputs": [],
     "prompt_number": 189
    },
    {
     "cell_type": "code",
     "collapsed": false,
     "input": [
      "get_genotype_frequencies(f3)"
     ],
     "language": "python",
     "metadata": {},
     "outputs": [
      {
       "metadata": {},
       "output_type": "pyout",
       "prompt_number": 190,
       "text": [
        "array([ 0.37649402,  0.23904382,  0.38047809])"
       ]
      }
     ],
     "prompt_number": 190
    }
   ],
   "metadata": {}
  }
 ]
}